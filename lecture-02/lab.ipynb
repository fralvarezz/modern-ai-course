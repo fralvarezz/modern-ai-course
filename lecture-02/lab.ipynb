{
 "cells": [
  {
   "cell_type": "markdown",
   "metadata": {
    "id": "hFgoWb-cQTFe"
   },
   "source": [
    "[![Open In Colab](https://colab.research.google.com/assets/colab-badge.svg)](https://colab.research.google.com/github/real-itu/modern-ai-course/blob/master/lecture-02/lab.ipynb)"
   ]
  },
  {
   "cell_type": "markdown",
   "metadata": {
    "id": "WCsnF20ssl92"
   },
   "source": [
    "# Lab 2 - Adversarial Search\n",
    "\n",
    "[Connect 4](https://en.wikipedia.org/wiki/Connect_Four) is a classic board game in which 2 players alternate placing markers in columns, and the goal is to get 4 in a row, either horizontally, vertically or diagonally. See the short video below"
   ]
  },
  {
   "cell_type": "code",
   "execution_count": 1,
   "metadata": {
    "id": "FjNjkAQMt3D5"
   },
   "outputs": [
    {
     "data": {
      "text/html": [
       "\n",
       "        <iframe\n",
       "            width=\"400\"\n",
       "            height=\"300\"\n",
       "            src=\"https://www.youtube.com/embed/ylZBRUJi3UQ\"\n",
       "            frameborder=\"0\"\n",
       "            allowfullscreen\n",
       "        ></iframe>\n",
       "        "
      ],
      "text/plain": [
       "<IPython.lib.display.YouTubeVideo at 0x20e37d66340>"
      ]
     },
     "execution_count": 1,
     "metadata": {},
     "output_type": "execute_result"
    }
   ],
   "source": [
    "from IPython.display import YouTubeVideo\n",
    "YouTubeVideo(\"ylZBRUJi3UQ\")"
   ]
  },
  {
   "cell_type": "markdown",
   "metadata": {
    "id": "j6HUcMYbuEq_"
   },
   "source": [
    "The game is implemented below. It will play a game where both players take random (legal) actions. The MAX player is represented with a X and the MIN player with an O. The MAX player starts. Execute the code."
   ]
  },
  {
   "cell_type": "code",
   "execution_count": 1,
   "metadata": {
    "id": "-jWBNC6j1O91"
   },
   "outputs": [
    {
     "name": "stdout",
     "output_type": "stream",
     "text": [
      "6\n",
      "0  1  2  3  4  5  6\n",
      ".  .  .  .  .  .  .\n",
      ".  .  .  .  .  .  .\n",
      ".  .  .  .  .  .  .\n",
      ".  .  .  .  .  .  .\n",
      ".  .  .  .  .  .  .\n",
      ".  .  .  .  .  .  X\n",
      "\n",
      "THE SCORE IS: 0\n",
      "What column do you want and dont trick me cause I am not checking for errors: 1\n",
      "0  1  2  3  4  5  6\n",
      ".  .  .  .  .  .  .\n",
      ".  .  .  .  .  .  .\n",
      ".  .  .  .  .  .  .\n",
      ".  .  .  .  .  .  .\n",
      ".  .  .  .  .  .  .\n",
      ".  O  .  .  .  .  X\n",
      "\n",
      "THE SCORE IS: 0\n",
      "6\n",
      "0  1  2  3  4  5  6\n",
      ".  .  .  .  .  .  .\n",
      ".  .  .  .  .  .  .\n",
      ".  .  .  .  .  .  .\n",
      ".  .  .  .  .  .  .\n",
      ".  .  .  .  .  .  X\n",
      ".  O  .  .  .  .  X\n",
      "\n",
      "THE SCORE IS: 0\n",
      "What column do you want and dont trick me cause I am not checking for errors: 1\n",
      "0  1  2  3  4  5  6\n",
      ".  .  .  .  .  .  .\n",
      ".  .  .  .  .  .  .\n",
      ".  .  .  .  .  .  .\n",
      ".  .  .  .  .  .  .\n",
      ".  O  .  .  .  .  X\n",
      ".  O  .  .  .  .  X\n",
      "\n",
      "THE SCORE IS: 0\n",
      "3\n",
      "0  1  2  3  4  5  6\n",
      ".  .  .  .  .  .  .\n",
      ".  .  .  .  .  .  .\n",
      ".  .  .  .  .  .  .\n",
      ".  .  .  .  .  .  .\n",
      ".  O  .  .  .  .  X\n",
      ".  O  .  X  .  .  X\n",
      "\n",
      "THE SCORE IS: 0\n",
      "What column do you want and dont trick me cause I am not checking for errors: 1\n",
      "0  1  2  3  4  5  6\n",
      ".  .  .  .  .  .  .\n",
      ".  .  .  .  .  .  .\n",
      ".  .  .  .  .  .  .\n",
      ".  O  .  .  .  .  .\n",
      ".  O  .  .  .  .  X\n",
      ".  O  .  X  .  .  X\n",
      "\n",
      "THE SCORE IS: -1\n",
      "3\n",
      "0  1  2  3  4  5  6\n",
      ".  .  .  .  .  .  .\n",
      ".  .  .  .  .  .  .\n",
      ".  .  .  .  .  .  .\n",
      ".  O  .  .  .  .  .\n",
      ".  O  .  X  .  .  X\n",
      ".  O  .  X  .  .  X\n",
      "\n",
      "THE SCORE IS: -1\n",
      "What column do you want and dont trick me cause I am not checking for errors: 1\n",
      "0  1  2  3  4  5  6\n",
      ".  .  .  .  .  .  .\n",
      ".  .  .  .  .  .  .\n",
      ".  O  .  .  .  .  .\n",
      ".  O  .  .  .  .  .\n",
      ".  O  .  X  .  .  X\n",
      ".  O  .  X  .  .  X\n",
      "\n",
      "THE SCORE IS: -inf\n",
      "-1\n"
     ]
    }
   ],
   "source": [
    "### import random\n",
    "from copy import deepcopy\n",
    "from typing import Sequence\n",
    "import math\n",
    "\n",
    "NONE = '.'\n",
    "MAX = 'X'\n",
    "MIN = 'O'\n",
    "COLS = 7\n",
    "ROWS = 6\n",
    "N_WIN = 4\n",
    "\n",
    "\n",
    "class ArrayState:\n",
    "    def __init__(self, board, heights, n_moves):\n",
    "        self.board = board\n",
    "        self.heights = heights\n",
    "        self.n_moves = n_moves\n",
    "\n",
    "    @staticmethod\n",
    "    def init():\n",
    "        board = [[NONE] * ROWS for _ in range(COLS)]\n",
    "        return ArrayState(board, [0] * COLS, 0)\n",
    "\n",
    "\n",
    "def result(state: ArrayState, action: int) -> ArrayState:\n",
    "    \"\"\"Insert in the given column.\"\"\"\n",
    "    assert 0 <= action < COLS, \"action must be a column number\"\n",
    "\n",
    "    if state.heights[action] >= ROWS:\n",
    "        raise Exception('Column is full')\n",
    "\n",
    "    player = MAX if state.n_moves % 2 == 0 else MIN\n",
    "\n",
    "    board = deepcopy(state.board)\n",
    "    board[action][ROWS - state.heights[action] - 1] = player\n",
    "\n",
    "    heights = deepcopy(state.heights)\n",
    "    heights[action] += 1\n",
    "\n",
    "    return ArrayState(board, heights, state.n_moves + 1)\n",
    "\n",
    "\n",
    "def actions(state: ArrayState) -> Sequence[int]:\n",
    "    return [i for i in range(COLS) if state.heights[i] < ROWS]\n",
    "    \n",
    "def ordered_actions(state: ArrayState) -> Sequence[int]:\n",
    "    act = [i for i in range(COLS) if state.heights[i] < ROWS]\n",
    "    new_act = []\n",
    "    for i in [3,2,4,1,5,0,6]:\n",
    "        if i in act:\n",
    "            new_act.append(i)\n",
    "    return new_act\n",
    "    \n",
    "\n",
    "def utility(state: ArrayState) -> float:\n",
    "    \"\"\"Get the winner on the current board.\"\"\"\n",
    "\n",
    "    board = state.board\n",
    "\n",
    "    def diagonalsPos():\n",
    "        \"\"\"Get positive diagonals, going from bottom-left to top-right.\"\"\"\n",
    "        for di in ([(j, i - j) for j in range(COLS)] for i in range(COLS + ROWS - 1)):\n",
    "            yield [board[i][j] for i, j in di if i >= 0 and j >= 0 and i < COLS and j < ROWS]\n",
    "\n",
    "    def diagonalsNeg():\n",
    "        \"\"\"Get negative diagonals, going from top-left to bottom-right.\"\"\"\n",
    "        for di in ([(j, i - COLS + j + 1) for j in range(COLS)] for i in range(COLS + ROWS - 1)):\n",
    "            yield [board[i][j] for i, j in di if i >= 0 and j >= 0 and i < COLS and j < ROWS]\n",
    "\n",
    "    lines = board + \\\n",
    "            list(zip(*board)) + \\\n",
    "            list(diagonalsNeg()) + \\\n",
    "            list(diagonalsPos())\n",
    "\n",
    "    max_win = MAX * N_WIN\n",
    "    min_win = MIN * N_WIN\n",
    "    for line in lines:\n",
    "        str_line = \"\".join(line)\n",
    "        if max_win in str_line:\n",
    "            return 1\n",
    "        elif min_win in str_line:\n",
    "            return -1\n",
    "    return 0\n",
    "\n",
    "\n",
    "def score(state: ArrayState, debug = False) -> float:\n",
    "    \"\"\"Very inefficient function to get the score of the board.\"\"\"\n",
    "\n",
    "    board = state.board\n",
    "\n",
    "    def diagonalsPos():\n",
    "        \"\"\"Get positive diagonals, going from bottom-left to top-right.\"\"\"\n",
    "        for di in ([(j, i - j) for j in range(COLS)] for i in range(COLS + ROWS - 1)):\n",
    "            yield [board[i][j] for i, j in di if i >= 0 and j >= 0 and i < COLS and j < ROWS]\n",
    "\n",
    "    def diagonalsNeg():\n",
    "        \"\"\"Get negative diagonals, going from top-left to bottom-right.\"\"\"\n",
    "        for di in ([(j, i - COLS + j + 1) for j in range(COLS)] for i in range(COLS + ROWS - 1)):\n",
    "            yield [board[i][j] for i, j in di if i >= 0 and j >= 0 and i < COLS and j < ROWS]\n",
    "\n",
    "    lines = board + \\\n",
    "            list(zip(*board)) + \\\n",
    "            list(diagonalsNeg()) + \\\n",
    "            list(diagonalsPos())\n",
    "\n",
    "    max_four = MAX * 4\n",
    "    max_three = MAX * 3\n",
    "    max_two = MAX * 2\n",
    "    max_one = MAX * 1\n",
    "    min_four = MIN * 4\n",
    "    min_three = MIN * 3\n",
    "    min_two = MIN * 2\n",
    "    min_one = MIN * 1\n",
    "\n",
    "    highest_max = 0\n",
    "    highest_min = 0\n",
    "    threes_max = 0\n",
    "    threes_min = 0\n",
    "\n",
    "    for line in lines:\n",
    "        str_line = \"\".join(line)\n",
    "        if max_four in str_line:\n",
    "            highest_max = max(highest_max, math.inf)\n",
    "            threes_max += math.inf\n",
    "        elif max_three in str_line:\n",
    "            highest_max = max(highest_max, 3000)\n",
    "            threes_max = threes_max + 1\n",
    "        elif max_two in str_line:\n",
    "            highest_max = max(highest_max, 500)\n",
    "        elif max_one in str_line:\n",
    "            highest_max = max(highest_max, 10)\n",
    "\n",
    "        if min_four in str_line:\n",
    "            highest_min = max(highest_min, math.inf)\n",
    "            threes_min = math.inf\n",
    "        elif min_three in str_line:\n",
    "            highest_min = max(highest_min, 3000)\n",
    "            threes_min = threes_min + 1\n",
    "        elif min_two in str_line:\n",
    "            highest_min = max(highest_min, 500)\n",
    "        elif min_one in str_line:\n",
    "            highest_min = max(highest_min, 10)\n",
    "        \n",
    "    return threes_max - threes_min\n",
    "    return highest_max - highest_min\n",
    "\n",
    "\n",
    "def terminal_test(state: ArrayState) -> bool:\n",
    "    return state.n_moves >= COLS * ROWS or utility(state) != 0\n",
    "\n",
    "\n",
    "def printBoard(state: ArrayState):\n",
    "    board = state.board\n",
    "    \"\"\"Print the board.\"\"\"\n",
    "    print('  '.join(map(str, range(COLS))))\n",
    "    for y in range(ROWS):\n",
    "        print('  '.join(str(board[x][y]) for x in range(COLS)))\n",
    "    print()\n",
    "\n",
    "    \n",
    "def minimax(state, depth, maximizing_player, alpha, beta):\n",
    "    if depth == 0 or utility(state) != 0:\n",
    "        return state, 0\n",
    "    move = 0\n",
    "\n",
    "    if maximizing_player:\n",
    "        max_eval = 0\n",
    "        for i in ordered_actions(state):\n",
    "            new_state, new_move = minimax(result(state, i), depth - 1, False, alpha, beta)\n",
    "            eval = score(new_state)\n",
    "            max_eval = max(max_eval, eval)\n",
    "            alpha = max(alpha, eval)\n",
    "            if max_eval == eval:\n",
    "                move = i\n",
    "            if beta <= alpha:\n",
    "                break\n",
    "        return state, move\n",
    "\n",
    "    else:\n",
    "        min_eval = 4\n",
    "        for i in ordered_actions(state):\n",
    "            new_state, new_move = minimax(result(state, i), depth - 1, True, alpha, beta)\n",
    "            eval = score(new_state)\n",
    "            min_eval = min(min_eval, eval)\n",
    "            beta = min(beta, eval)\n",
    "            if min_eval == eval:\n",
    "                move = i\n",
    "            if beta <= alpha:\n",
    "                break\n",
    "        return state, move\n",
    "\n",
    "if __name__ == '__main__':\n",
    "    s = ArrayState.init()\n",
    "    while not terminal_test(s):\n",
    "        if s.n_moves % 2 != 0:\n",
    "            inp = int(input(\"What column do you want and dont trick me cause I am not checking for errors: \"))\n",
    "            a = actions(s)[inp]\n",
    "            # a = random.choice(actions(s))\n",
    "        else:\n",
    "            new_state, new_move = minimax(s, 5, False, -math.inf, math.inf)\n",
    "            s = new_state\n",
    "            a = ordered_actions(s)[new_move]\n",
    "            print(a)\n",
    "\n",
    "        s = result(s, a)\n",
    "        printBoard(s)\n",
    "        print(\"THE SCORE IS: \" + str(score(s, True)))\n",
    "    print(utility(s))\n"
   ]
  },
  {
   "cell_type": "markdown",
   "metadata": {
    "id": "rljSjxl4unxn"
   },
   "source": [
    "The last number 0, -1 or 1 is the utility or score of the game. 0 means it was a draw, 1 means MAX player won and -1 means MIN player won."
   ]
  },
  {
   "cell_type": "markdown",
   "metadata": {
    "id": "UUUpbYYJu6Zr"
   },
   "source": [
    "### Exercise 1\n",
    "\n",
    "Modify the code so that you can play manually as the MIN player against the random AI."
   ]
  },
  {
   "cell_type": "markdown",
   "metadata": {
    "id": "OrpAOYa-vbR6"
   },
   "source": [
    "### Exercise 2\n",
    "\n",
    "Implement standard minimax with a fixed depth search. Modify the utility function to handle non-terminal positions using heuristics. Find a value for the depth such that moves doesn't take longer than approx. 1s to evaluate. See if you can beat your connect4 AI."
   ]
  },
  {
   "cell_type": "markdown",
   "metadata": {
    "id": "-s7XbCsvwOtt"
   },
   "source": [
    "### Exercise 3\n",
    "\n",
    "Add alpha/beta pruning to your minimax. Change your depth so that moves still takes approx 1 second to evaluate. How much deeper can you search? See if you can beat your connect4 AI."
   ]
  },
  {
   "cell_type": "markdown",
   "metadata": {
    "id": "weG9OiFYwfSK"
   },
   "source": [
    "### Exercise 4\n",
    "\n",
    "Add move ordering. The middle columns are often \"better\" since there's more winning positions that contain them. Evaluate the moves in this order: [3,2,4,1,5,0,6]. How much deeper can you search now? See if you can beat your connect4 AI"
   ]
  },
  {
   "cell_type": "markdown",
   "metadata": {
    "id": "enbI-o_Cw6Jw"
   },
   "source": [
    "### Exercise 5 - Optional\n",
    "\n",
    "Improve your AI somehow. Consider \n",
    "\n",
    "\n",
    "* Better heuristics\n",
    "* Faster board representations (look up bitboards)\n",
    "* Adding a transposition table (see class below)\n",
    "* Better move ordering"
   ]
  },
  {
   "cell_type": "code",
   "execution_count": 2,
   "metadata": {
    "id": "uqAPS8cFgVN-"
   },
   "outputs": [],
   "source": [
    "class TranspositionTable:\n",
    "\n",
    "    def __init__(self, size=1_000_000):\n",
    "        self.size = size\n",
    "        self.vals = [None] * size\n",
    "\n",
    "    def board_str(self, state: ArrayState):\n",
    "        return ''.join([''.join(c) for c in state.board])\n",
    "\n",
    "    def put(self, state: ArrayState, utility: float):\n",
    "        bstr = self.board_str(state)\n",
    "        idx = hash(bstr) % self.size\n",
    "        self.vals[idx] = (bstr, utility)\n",
    "\n",
    "    def get(self, state: ArrayState):\n",
    "        bstr = self.board_str(state)\n",
    "        idx = hash(bstr) % self.size\n",
    "        stored = self.vals[idx]\n",
    "        if stored is None:\n",
    "            return None\n",
    "        if stored[0] == bstr:\n",
    "            return stored[1]\n",
    "        else:\n",
    "            return None"
   ]
  }
 ],
 "metadata": {
  "colab": {
   "collapsed_sections": [],
   "name": "connect4.ipynb",
   "provenance": []
  },
  "kernelspec": {
   "display_name": "Python 3",
   "language": "python",
   "name": "python3"
  },
  "language_info": {
   "codemirror_mode": {
    "name": "ipython",
    "version": 3
   },
   "file_extension": ".py",
   "mimetype": "text/x-python",
   "name": "python",
   "nbconvert_exporter": "python",
   "pygments_lexer": "ipython3",
   "version": "3.8.8"
  }
 },
 "nbformat": 4,
 "nbformat_minor": 4
}