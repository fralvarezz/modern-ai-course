{
 "cells": [
  {
   "cell_type": "markdown",
   "metadata": {
    "id": "NGzC3uqmuKZB"
   },
   "source": [
    "# In this project we will solve two simple environments using a Q-table."
   ]
  },
  {
   "cell_type": "markdown",
   "metadata": {
    "id": "KYeKUsX8uXSF"
   },
   "source": [
    "# Exercise\n",
    "\n",
    "Solve [`FrozenLake8x8-v0`](https://gym.openai.com/envs/FrozenLake8x8-v0/) using a Q-table.\n"
   ]
  },
  {
   "cell_type": "markdown",
   "metadata": {
    "id": "hGAOGNSWyncb"
   },
   "source": [
    "1. Import Necessary Packages:"
   ]
  },
  {
   "cell_type": "markdown",
   "metadata": {
    "id": "V7KHXZDxys6J"
   },
   "source": [
    "\n",
    "2. Instantiate the Environment and Agent"
   ]
  },
  {
   "cell_type": "markdown",
   "metadata": {
    "id": "QMs2BVFZywAJ"
   },
   "source": [
    "3. Set up the QTable:"
   ]
  },
  {
   "cell_type": "markdown",
   "metadata": {
    "id": "YHuDteJVy2_C"
   },
   "source": [
    "4. The Q-Learning algorithm training"
   ]
  },
  {
   "cell_type": "markdown",
   "metadata": {
    "id": "Mm8oigYjzFTd"
   },
   "source": [
    "5. Evaluate how well your agent performs\n",
    "* Render output of one episode\n",
    "* Give an average episode return"
   ]
  },
  {
   "cell_type": "code",
   "execution_count": 52,
   "metadata": {
    "id": "wiXJPDzauAvV"
   },
   "outputs": [
    {
     "name": "stdout",
     "output_type": "stream",
     "text": [
      "\n",
      "\u001b[41mS\u001b[0mFFFFFFF\n",
      "FFFFFFFF\n",
      "FFFHFFFF\n",
      "FFFFFHFF\n",
      "FFFHFFFF\n",
      "FHHFFFHF\n",
      "FHFFHFHF\n",
      "FFFHFFFG\n",
      "Score over time: 0.44744666666666666\n",
      "[[2.31065713e-02 2.01260820e-02 1.66628142e-02 5.40522597e-02]\n",
      " [2.36374373e-02 2.41432878e-02 7.46295728e-02 1.63750706e-02]\n",
      " [2.43071414e-02 2.47056413e-02 5.76417020e-02 1.91366361e-02]\n",
      " [3.09852855e-02 3.29354305e-02 7.71948417e-02 3.79562484e-02]\n",
      " [3.26698624e-02 2.73099003e-02 1.91775285e-01 3.17777778e-02]\n",
      " [2.90146541e-02 4.66210368e-02 1.98464943e-01 5.32559332e-02]\n",
      " [7.35853509e-02 2.14112215e-01 8.35934753e-02 7.38791859e-02]\n",
      " [8.38796010e-02 7.82230317e-02 1.85720605e-01 2.74559104e-02]\n",
      " [1.92656802e-02 2.01727410e-02 1.24361398e-02 6.14304540e-02]\n",
      " [1.27148124e-02 2.13628819e-02 1.25872838e-02 4.58606842e-02]\n",
      " [8.70064117e-03 1.05855753e-02 1.09502981e-02 5.54301568e-02]\n",
      " [1.26476877e-02 2.35257269e-03 1.38635842e-02 6.12432432e-02]\n",
      " [2.29934798e-02 9.06345415e-03 3.41487029e-02 1.58289013e-01]\n",
      " [7.75982477e-02 2.23047340e-02 1.22744649e-01 4.53880364e-02]\n",
      " [7.34488749e-02 7.18363187e-02 1.69833915e-01 6.34812516e-02]\n",
      " [8.55043543e-02 2.08596454e-01 1.57546124e-01 8.64448343e-02]\n",
      " [8.20984083e-03 8.43508798e-03 2.01146299e-02 7.95964361e-03]\n",
      " [6.89726875e-03 5.59519210e-03 5.35102782e-03 1.46884325e-02]\n",
      " [2.00911088e-02 2.95772681e-03 5.41459577e-04 1.33582330e-03]\n",
      " [0.00000000e+00 0.00000000e+00 0.00000000e+00 0.00000000e+00]\n",
      " [1.29879461e-04 3.04321684e-04 8.57560645e-02 9.11597742e-03]\n",
      " [4.65763324e-02 1.53958590e-02 2.95611539e-03 1.59350384e-01]\n",
      " [7.48048053e-02 3.42345779e-01 6.95591147e-02 7.91037583e-02]\n",
      " [9.30915424e-02 9.95828882e-02 5.02472379e-01 9.23288017e-02]\n",
      " [4.56707900e-03 4.10958201e-03 5.41706297e-03 1.56636402e-02]\n",
      " [1.91355143e-02 2.52307424e-03 2.85025272e-03 3.06431949e-03]\n",
      " [9.04415249e-04 1.33330459e-04 7.64205243e-04 2.06353244e-02]\n",
      " [9.61821181e-08 1.08244029e-06 7.54901377e-06 3.99807525e-03]\n",
      " [3.66725160e-02 3.93320630e-04 2.25748224e-04 1.11138183e-05]\n",
      " [0.00000000e+00 0.00000000e+00 0.00000000e+00 0.00000000e+00]\n",
      " [4.49135602e-03 2.62555056e-02 3.95421893e-01 5.08977801e-02]\n",
      " [1.13874559e-01 1.02777308e-01 6.81304101e-01 1.34745300e-01]\n",
      " [1.43241505e-03 1.23844337e-03 1.33945474e-02 1.28638933e-03]\n",
      " [6.70897905e-04 3.23510247e-04 4.10351309e-04 4.84285921e-03]\n",
      " [7.29505960e-03 1.84806531e-05 2.01479967e-07 5.62092107e-07]\n",
      " [0.00000000e+00 0.00000000e+00 0.00000000e+00 0.00000000e+00]\n",
      " [7.85812915e-04 1.26136517e-05 2.50776010e-02 2.58673995e-04]\n",
      " [3.53874392e-04 2.25176636e-02 8.66736900e-05 3.96809440e-04]\n",
      " [9.97811150e-05 1.19379216e-04 1.86342210e-03 4.66339001e-01]\n",
      " [1.04231301e-01 7.06162114e-02 8.24047392e-01 1.22088844e-01]\n",
      " [1.17230342e-02 4.06779559e-04 3.03268300e-04 1.28789325e-04]\n",
      " [0.00000000e+00 0.00000000e+00 0.00000000e+00 0.00000000e+00]\n",
      " [0.00000000e+00 0.00000000e+00 0.00000000e+00 0.00000000e+00]\n",
      " [7.75440318e-11 1.71425467e-08 6.49526038e-05 2.46838450e-07]\n",
      " [1.51527964e-05 6.22088326e-05 8.93135808e-04 2.82279085e-03]\n",
      " [1.37499385e-02 1.83968203e-04 1.39928457e-04 1.95678989e-04]\n",
      " [0.00000000e+00 0.00000000e+00 0.00000000e+00 0.00000000e+00]\n",
      " [1.40525077e-01 1.45851904e-01 7.76791081e-01 1.25681298e-01]\n",
      " [3.15134562e-03 9.35422431e-05 8.46618101e-05 2.09010782e-05]\n",
      " [0.00000000e+00 0.00000000e+00 0.00000000e+00 0.00000000e+00]\n",
      " [8.71128174e-10 5.90712785e-08 2.21782794e-05 3.72307120e-10]\n",
      " [6.93591108e-06 1.77919200e-10 4.41302904e-07 8.30042435e-11]\n",
      " [0.00000000e+00 0.00000000e+00 0.00000000e+00 0.00000000e+00]\n",
      " [5.17493937e-01 2.10550467e-05 2.24752505e-05 2.29949845e-10]\n",
      " [0.00000000e+00 0.00000000e+00 0.00000000e+00 0.00000000e+00]\n",
      " [1.50690386e-01 1.49114997e-01 9.34486168e-01 2.20960096e-02]\n",
      " [1.82469129e-03 9.62513339e-05 4.07991102e-04 4.14605769e-04]\n",
      " [1.55034927e-05 4.06911395e-04 5.41875033e-05 5.33141588e-06]\n",
      " [3.06534585e-04 7.03523158e-07 1.07903161e-05 5.37339009e-06]\n",
      " [0.00000000e+00 0.00000000e+00 0.00000000e+00 0.00000000e+00]\n",
      " [6.56875064e-07 4.00730449e-06 3.48850329e-03 1.04538608e-05]\n",
      " [1.55134214e-01 2.01171593e-01 7.77521476e-01 5.80734295e-02]\n",
      " [1.18626715e-01 9.61869979e-01 1.58481154e-01 1.43695832e-01]\n",
      " [0.00000000e+00 0.00000000e+00 0.00000000e+00 0.00000000e+00]]\n",
      "[0.009, 0.02845, 0.06716666666666667, 0.11985, 0.17684, 0.22393333333333335, 0.2611, 0.2919625, 0.31262222222222225, 0.33203, 0.34747272727272727, 0.36030833333333334, 0.3714230769230769, 0.38075714285714285, 0.38870666666666664, 0.39658125, 0.4038764705882353, 0.40919444444444447, 0.4131, 0.41748, 0.42132380952380954, 0.42507272727272727, 0.42901304347826086, 0.432325, 0.435476, 0.4376884615384615, 0.4406481481481481, 0.44287857142857145, 0.44520344827586206, 0.44744666666666666]\n"
     ]
    },
    {
     "data": {
      "image/png": "[encoded data removed]",
      "text/plain": [
       "<Figure size 432x288 with 1 Axes>"
      ]
     },
     "metadata": {
      "needs_background": "light"
     },
     "output_type": "display_data"
    }
   ],
   "source": [
    "import numpy as np\n",
    "import gym\n",
    "import random\n",
    "import matplotlib.pyplot as plt\n",
    "\n",
    "#load the environment from OpenAI's gym\n",
    "env = gym.make(\"FrozenLake8x8-v1\", is_slippery=True)\n",
    "env.render()\n",
    "\n",
    "action_size = env.action_space.n #number of all possible actions\n",
    "state_size = env.observation_space.n #number of all possible states\n",
    "\n",
    "obs = env.reset()\n",
    "\n",
    "#we keep a history of the states of the q table and the score, in order to make some visualizations later\n",
    "qtable_history = [] \n",
    "score_history = []\n",
    "qtable = np.zeros((state_size, action_size)) #initialize the q-table with 0s\n",
    "\n",
    "\"\"\"PARAMETERS\"\"\"\n",
    "total_episodes = 300000        # Total episodes\n",
    "total_test_episodes = 1000       # Total test episodes\n",
    "max_steps = 200                # Max steps per episode\n",
    "\n",
    "learning_rate = 0.81           # Learning rate (alpha)\n",
    "gamma = 0.96                 # Discounting rate\n",
    "\n",
    "# Exploration parameters\n",
    "epsilon = 1.0                 # Exploration rate\n",
    "max_epsilon = 1.0             # Maximum exploration rate\n",
    "min_epsilon = 0.01            # Minimum exploration rate \n",
    "decay_rate = 0.0001             # Exponential decay rate for epsilon\n",
    "\n",
    "returns = [] #list to keep the score of each of the episodes. used for later visualization.\n",
    "\n",
    "for episode in range(total_episodes):\n",
    "    # Reset the environment and variables\n",
    "    state = env.reset()\n",
    "    step = 0\n",
    "    done = False\n",
    "    total_return = 0\n",
    "    #for the allowed amount of moves\n",
    "    for step in range(max_steps):\n",
    "        #Pick an action a in the current state\n",
    "        \n",
    "        \n",
    "        #Randomize a number for epsilon greedy\n",
    "        epsilon_decider = random.uniform(0,1)\n",
    "        \n",
    "        # If this number is greater than epsilon --> exploitation (taking the biggest Q value for this state)\n",
    "        if epsilon_decider > epsilon:\n",
    "            action = np.argmax(qtable[state,:])\n",
    "        \n",
    "        # Othersie doing a random choice --> exploration\n",
    "        else:\n",
    "            action = env.action_space.sample()\n",
    "        \n",
    "        # Perform the action and receive the updated info\n",
    "        new_state, reward, done, info = env.step(action)\n",
    "\n",
    "        # Update the q-table with the receive information for the state and the action performed\n",
    "        qtable[state, action] = qtable[state, action] + learning_rate * (reward + gamma * \n",
    "                                    np.max(qtable[new_state, :]) - qtable[state, action])\n",
    "                \n",
    "        state = new_state\n",
    "        total_return += reward\n",
    "        if done == True: \n",
    "            break\n",
    "    \n",
    "    \n",
    "    # Decrease epsilon\n",
    "    epsilon = min_epsilon + (max_epsilon - min_epsilon)*np.exp(-decay_rate*episode)\n",
    "    returns.append(total_return)\n",
    "    \n",
    "    #increase episode count and check if we are going to log it (for later visualization)\n",
    "    episode_count = episode + 1\n",
    "    if episode_count % 10000 == 0:\n",
    "        qtable_history.append(qtable)\n",
    "        score_history.append(sum(returns)/episode_count)\n",
    "print (\"Score over time: \" +  str(sum(returns)/total_episodes)) #not very useful for learning\n",
    "print(qtable) #q table values\n",
    "\n",
    "plt.plot(list(range(0, 300000+1, 10000))[1:], score_history) #plot average return vs number of episodes\n",
    "plt.title(\"Average return rate vs. number of episodes\") #The graph below is wrong! It is plotting the average return vs the number of episodes\n",
    "print(score_history)\n"
   ]
  },
  {
   "cell_type": "code",
   "execution_count": 66,
   "metadata": {},
   "outputs": [
    {
     "name": "stdout",
     "output_type": "stream",
     "text": [
      "Score over time: 0.81\n"
     ]
    }
   ],
   "source": [
    "env.reset()\n",
    "rewards = []\n",
    "\n",
    "for episode in range(total_test_episodes):\n",
    "    state = env.reset()\n",
    "    step = 0\n",
    "    done = False\n",
    "    total_rewards = 0\n",
    "\n",
    "    for step in range(max_steps):\n",
    "        #pick an action at the given state by looking up the q-table\n",
    "        action = np.argmax(qtable[state,:])\n",
    "        #perform it and get the result info\n",
    "        new_state, reward, done, info = env.step(action)\n",
    "        \n",
    "        #add the reward to the total rewards\n",
    "        total_rewards += reward\n",
    "        #update state\n",
    "        state = new_state\n",
    "        \n",
    "        if done:\n",
    "            break\n",
    "    #log the received reward    \n",
    "    rewards.append(total_rewards)\n",
    "env.close()\n",
    "print (\"Score over time: \" +  str(sum(rewards)/total_test_episodes))"
   ]
  }
 ],
 "metadata": {
  "colab": {
   "authorship_tag": "ABX9TyOtNkS92UHFInFg+R4UDAlq",
   "name": "Reinforcement_learning.ipynb",
   "provenance": []
  },
  "kernelspec": {
   "display_name": "Python 3",
   "language": "python",
   "name": "python3"
  },
  "language_info": {
   "codemirror_mode": {
    "name": "ipython",
    "version": 3
   },
   "file_extension": ".py",
   "mimetype": "text/x-python",
   "name": "python",
   "nbconvert_exporter": "python",
   "pygments_lexer": "ipython3",
   "version": "3.8.8"
  }
 },
 "nbformat": 4,
 "nbformat_minor": 4
}
